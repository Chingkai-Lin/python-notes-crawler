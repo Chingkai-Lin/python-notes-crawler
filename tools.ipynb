{
  "nbformat": 4,
  "nbformat_minor": 0,
  "metadata": {
    "colab": {
      "name": "tools.ipynb",
      "provenance": [],
      "authorship_tag": "ABX9TyPoIBNDf7SP7XMhk8ERSHsc",
      "include_colab_link": true
    },
    "kernelspec": {
      "name": "python3",
      "display_name": "Python 3"
    }
  },
  "cells": [
    {
      "cell_type": "markdown",
      "metadata": {
        "id": "view-in-github",
        "colab_type": "text"
      },
      "source": [
        "<a href=\"https://colab.research.google.com/github/Chingkai-Lin/python-notes-crawler/blob/main/tools.ipynb\" target=\"_parent\"><img src=\"https://colab.research.google.com/assets/colab-badge.svg\" alt=\"Open In Colab\"/></a>"
      ]
    },
    {
      "cell_type": "markdown",
      "metadata": {
        "id": "OYvml1E514nz"
      },
      "source": [
        "## 1. 簡繁轉換"
      ]
    },
    {
      "cell_type": "code",
      "metadata": {
        "id": "oVZ5RGQXqN5e",
        "outputId": "4042c8c0-ef15-43e2-d8a7-405f5abaddac",
        "colab": {
          "base_uri": "https://localhost:8080/",
          "height": 207
        }
      },
      "source": [
        "# 簡繁轉換 opencc-python-reimplemented\n",
        "!pip install opencc-python-reimplemented"
      ],
      "execution_count": null,
      "outputs": [
        {
          "output_type": "stream",
          "text": [
            "Collecting opencc-python-reimplemented\n",
            "\u001b[?25l  Downloading https://files.pythonhosted.org/packages/04/aa/02c5ffc87e2bf1da1f476d35aa4de69cad2cfc3140e37114755c454d1231/opencc-python-reimplemented-0.1.6.tar.gz (484kB)\n",
            "\u001b[K     |████████████████████████████████| 491kB 3.5MB/s \n",
            "\u001b[?25hBuilding wheels for collected packages: opencc-python-reimplemented\n",
            "  Building wheel for opencc-python-reimplemented (setup.py) ... \u001b[?25l\u001b[?25hdone\n",
            "  Created wheel for opencc-python-reimplemented: filename=opencc_python_reimplemented-0.1.6-py2.py3-none-any.whl size=486137 sha256=fc83a5f7839326ef8fb7d8ec3e2d26616b20293f368fe66c7060b1839d8c60f4\n",
            "  Stored in directory: /root/.cache/pip/wheels/54/8a/0f/405db0ba3f02d9af8211422d3ae94c47b3296256f168ac1e68\n",
            "Successfully built opencc-python-reimplemented\n",
            "Installing collected packages: opencc-python-reimplemented\n",
            "Successfully installed opencc-python-reimplemented-0.1.6\n"
          ],
          "name": "stdout"
        }
      ]
    },
    {
      "cell_type": "code",
      "metadata": {
        "id": "gwpHaMKlsoJg",
        "outputId": "7b1b9fd9-63f7-4bca-d14c-f70e962364a4",
        "colab": {
          "base_uri": "https://localhost:8080/",
          "height": 86
        }
      },
      "source": [
        "# 打開檔案，簡轉繁\n",
        "from opencc import OpenCC\n",
        "with open(\"a.txt\", \"r\", encoding=\"utf-8\") as f:\n",
        "    sim = f.read()\n",
        "cc = OpenCC('s2twp')\n",
        "converted = cc.convert(sim)\n",
        "converted"
      ],
      "execution_count": null,
      "outputs": [
        {
          "output_type": "execute_result",
          "data": {
            "application/vnd.google.colaboratory.intrinsic+json": {
              "type": "string"
            },
            "text/plain": [
              "'臺灣人現在書寫書面文章是用簡體中文還是繁體中文？\\n臺灣人現在書寫書面文章是用簡體中文還是繁體中文？\\n寫繁體中文不煩嗎？\\n\\ue768 我來答 分享 舉報\\n5個回答#熱議# 硬糖少女官方發文勸粉絲不要互撕，怎麼回事？\\ndu罷 \\nTA獲得超過311個認可 2008-11-05\\n關注\\n繁體中文。\\n為什麼會覺得煩2113呢？也許讓我們學寫繁體中5261文的話，我4102們可能會煩。\\n主要看所處的環境。\\n如果1653樓主從一出生就學的是繁體中文的話，現在讓你學寫簡體中文，你也會煩的。如果一個英語為母語的國家，讓他們的人民學中文，不管是繁體還是簡體都會煩。\\n要你用你的純母語來書寫，應該是最順手的吧\\n'"
            ]
          },
          "metadata": {
            "tags": []
          },
          "execution_count": 2
        }
      ]
    },
    {
      "cell_type": "markdown",
      "metadata": {
        "id": "2pa7cPvY18zL"
      },
      "source": [
        "## 2. 分詞"
      ]
    },
    {
      "cell_type": "code",
      "metadata": {
        "id": "rJ8fyYisu--x",
        "outputId": "87871435-ce74-407d-88e7-8b7c59313382",
        "colab": {
          "base_uri": "https://localhost:8080/",
          "height": 273
        }
      },
      "source": [
        "# 分詞：放入詞典的詞並透過上下文以及機率\n",
        "import jieba\n",
        "# 避免重複下載辭典\n",
        "import os\n",
        "# 放入較大的詞典，更精準分配\n",
        "from urllib.request import urlretrieve\n",
        "if not os.path.exists(\"dict.txt.big\"):\n",
        "    url = \"https://github.com/fxsjy/jieba/raw/master/extra_dict/dict.txt.big\"\n",
        "    urlretrieve(url, \"dict.txt.big\")\n",
        "jieba.set_dictionary(\"dict.txt.big\")\n",
        "# 放入自訂的詞典\n",
        "jieba.load_userdict(\"dict.politics\")\n",
        "# jieba切詞，記得no.16行要放入空白\n",
        "with open(\"news.txt\", \"r\", encoding=\"utf-8\") as f:\n",
        "    news = f.read()\n",
        "\" \".join(jieba.cut(news))"
      ],
      "execution_count": null,
      "outputs": [
        {
          "output_type": "stream",
          "text": [
            "Building prefix dict from /content/dict.txt.big ...\n",
            "Loading model from cache /tmp/jieba.u501edca284da514cb68b53a20324f4e3.cache\n",
            "Loading model cost 1.252 seconds.\n",
            "Prefix dict has been built successfully.\n"
          ],
          "name": "stderr"
        },
        {
          "output_type": "execute_result",
          "data": {
            "application/vnd.google.colaboratory.intrinsic+json": {
              "type": "string"
            },
            "text/plain": [
              "'川普 離院 搭車 繞院給 驚喜   醫學專家 大罵 ： 瘋 了 嗎 ？ \\n 新 頭殼 newtalk   |   洪 翠蓮   綜合 報導 \\n 發布   2020.10 . 05   |   08 : 25 \\n           \\n 媒體 小農 \\n A - A + \\n \\n \\n 夭壽 喔 ！ 這是 做秀 抑是 瘋 了 ？ 美國 總統 川普 （ Donald   Trump ） 確診 武漢肺炎 ， 竟然 短暫 搭車 離開 沃爾特 里德 國家 軍事 醫療 中心 （ Walter   Reed   National   Military   Medical   Center ） ， 繞街 在車 內向 支持者 致意 ， 還稱 是 「 小 驚喜 」 ， 嚇壞 美國 一票 醫學專家 。 GWU 急診 醫學 災難 醫學 負責人 菲利普斯 （ Dr .   James   P .   Phillips ） 痛罵 川普 瘋 了 ， 害同車 的 人 要 隔離 14 天 ， 甚至 面對 感染 、 死亡威脅 。 \\n \\n 川普 堪稱 是 感染 武漢肺炎 後 「 最 不安份 」 的 國家 領袖 了 ， 他 週日 在 推特 上傳 影片 ， 稱要給 大家 「 一個 驚喜 」 ， 沒想到 竟然 是 他 搭乘 防護 車輛 離開 醫院 ， 繞著 醫療 中心 附近 的 街道 「 現身 」 ， 接受 等 在 醫院 外 支持者 的 歡呼 。 \\n \\n \\n 美國有線電視新聞網 CNN 批評 ， 川普 在 SUV 車內 仍 戴 著 防護 口罩 ， 但 他 似乎 沒有 意識 到 危險性 ， 顯示 出 這位 總統 的 可議 行為 ， 他 似乎 無法 理解 高度 傳染性 和 致命性 疾病 的 嚴重性 ， 不 知道 這種 行為 會 危害 員工 ， 以及 可能 引發 的 後續 效應 。 \\n \\n 川普 在 自己 po 的 影片 中 提到 ， 自從 確診 武漢 肺 後 ， 他 學到 很多 ， 還說 他 會 讓 人們 知道 「 這是 一件 非常 有趣 的 事 」 。 醫學專家 菲利普斯 在 推特 痛罵 「 這根 本是 精神 錯亂 」 （ This   is   insanity ） ！ \\n \\n 菲利普斯 批 川普 是 在 做秀 ， 指 與 川普 同車 的 每個 人 都 必須 被 隔離 14 天 ， 他們 可能 會 生病 ， 甚至 可能 會 死 ， 在 這個 政治 劇院 裡 ， 川普 下令 將 這些 人 的 生命 曝露 在 威脅 中 。 該 推文 引來 18 萬 網友 關注 ， 不少 網友 跟 著 罵 川普 「 蠢貨 」 、 「 災難 」 ， 竟然 只 戴 著 普通 醫用 黑色 口罩 ， 而 不是 N95 口罩 ！ 還有 人 認為 這是 「 大 騙局 」 ， 這場 災難 「 管理 失敗 」 。 \\n \\n 白宮 記者 協會 也 發出 聲明 ， 批評 川普 在 沒有 全套 保護 裝備 下離院 的 行為 ， 「 荒謬絕倫 」 ， 記者 們 沒有 接到 任何 通知 ， 相當 不滿 ， 他們 堅稱 美國 民眾 比 任何 時候 更 需要 關於 總統 健康 真實情況 的 報導 。 \\n \\n 美國 總統 川普 （ 紅圈 處 ） 確診 武漢肺炎 ， 卻 短暫 搭 防護 車 離開 醫院 ， 在 附近 街道 向 支持者 致意 ， 嚇壞 一票 醫生 。       圖 ： 翻攝 自 YouTube / Sky   News \\n 美國 總統 川普 （ 紅圈 處 ） 確診 武漢肺炎 ， 卻 短暫 搭 防護 車 離開 醫院 ， 在 附近 街道 向 支持者 致意 ， 嚇壞 一票 醫生 。       圖 ： 翻攝 自 YouTube / Sky   News'"
            ]
          },
          "metadata": {
            "tags": []
          },
          "execution_count": 7
        }
      ]
    },
    {
      "cell_type": "markdown",
      "metadata": {
        "id": "sUzIi_gY2GkV"
      },
      "source": [
        "## 3. 抓關鍵詞\n",
        "a. 次數多：多，重要 <br>\n",
        "b. 常用度：常用，不重要 （須預先搜集其他文章）<br>\n",
        "$$TF-IDF: 重要性= \\frac{次數}{常用度}$$\n",
        "使用jieba.analyse"
      ]
    },
    {
      "cell_type": "code",
      "metadata": {
        "id": "8nlAuGoEQzNl",
        "outputId": "8705f0d4-a37e-4823-943a-abacf03b4c51",
        "colab": {
          "base_uri": "https://localhost:8080/",
          "height": 357
        }
      },
      "source": [
        "import jieba.analyse\n",
        "jieba.analyse.extract_tags(news)"
      ],
      "execution_count": null,
      "outputs": [
        {
          "output_type": "execute_result",
          "data": {
            "text/plain": [
              "['川普',\n",
              " '美國',\n",
              " '總統',\n",
              " '確診',\n",
              " '武漢肺炎',\n",
              " '離開',\n",
              " '防護',\n",
              " '醫院',\n",
              " '支持者',\n",
              " '驚喜',\n",
              " '醫學專家',\n",
              " '這是',\n",
              " '短暫',\n",
              " '嚇壞',\n",
              " '災難',\n",
              " '沒有',\n",
              " '行為',\n",
              " '菲利普斯',\n",
              " '致意',\n",
              " '一票']"
            ]
          },
          "metadata": {
            "tags": []
          },
          "execution_count": 8
        }
      ]
    }
  ]
}